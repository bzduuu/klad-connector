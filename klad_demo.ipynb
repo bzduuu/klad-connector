{
 "cells": [
  {
   "cell_type": "code",
   "execution_count": null,
   "id": "72079cc9",
   "metadata": {
    "vscode": {
     "languageId": "plaintext"
    }
   },
   "outputs": [],
   "source": [
    "#автоперезагрузка и импорт\n",
    "%load_ext autoreload\n",
    "%autoreload 2\n",
    "\n",
    "from klad_connector import PostgresClient, DFSClient"
   ]
  },
  {
   "cell_type": "code",
   "execution_count": null,
   "id": "4841149d",
   "metadata": {
    "vscode": {
     "languageId": "plaintext"
    }
   },
   "outputs": [],
   "source": [
    "#чтение из бд\n",
    "pg = PostgresClient(profile=\"dev\")\n",
    "df = pg.read_sql(\"SELECT 1 AS test\")\n",
    "df.head()"
   ]
  },
  {
   "cell_type": "code",
   "execution_count": null,
   "id": "7ff94542",
   "metadata": {
    "vscode": {
     "languageId": "plaintext"
    }
   },
   "outputs": [],
   "source": [
    "#запись датафрейма в DFS\n",
    "dfs = DFSClient()\n",
    "df.to_csv(\"demo_df.csv\", index=False)\n",
    "dfs.upload_file(\"demo_df.csv\", \"demo/df_upload.csv\")"
   ]
  },
  {
   "cell_type": "code",
   "execution_count": null,
   "id": "ec567d16",
   "metadata": {
    "vscode": {
     "languageId": "plaintext"
    }
   },
   "outputs": [],
   "source": [
    "#загрузка обратно\n",
    "dfs.download_file(\"demo/df_upload.csv\", \"downloaded_demo_df.csv\")\n",
    "import pandas as pd\n",
    "pd.read_csv(\"downloaded_demo_df.csv\").head()"
   ]
  }
 ],
 "metadata": {
  "language_info": {
   "name": "python"
  }
 },
 "nbformat": 4,
 "nbformat_minor": 5
}
